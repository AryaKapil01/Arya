{
 "cells": [
  {
   "cell_type": "code",
   "execution_count": null,
   "id": "622dbca6",
   "metadata": {},
   "outputs": [],
   "source": [
    "#1. In the below elements which of them are values or an expression? eg:- values can be\n",
    "integer or string and expressions will be mathematical operators.\n",
    "answer\n",
    "values are\n",
    "    'hellow'\n",
    "    -87.8\n",
    "    6\n",
    "expressions are\n",
    "    *\n",
    "    -\n",
    "    /\n",
    "    +\n",
    "     \n"
   ]
  },
  {
   "cell_type": "code",
   "execution_count": null,
   "id": "2c83443c",
   "metadata": {},
   "outputs": [],
   "source": [
    "#2. What is the difference between string and variable?\n",
    "          String is a datatype , that is single or group of charectors and sybols enclosed in single or double quotes.\n",
    "    Variable is a name of a location in primary memory that is it can hold any type of data"
   ]
  },
  {
   "cell_type": "code",
   "execution_count": null,
   "id": "948e23cd",
   "metadata": {},
   "outputs": [],
   "source": [
    "#3. Describe three different data types.\n",
    "       1.numbers\n",
    "       2.List\n",
    "       3.Tuple\n",
    "       4.string\n",
    "       5.Set\n",
    "       6.Dictionary\n",
    "       7.Boolean"
   ]
  },
  {
   "cell_type": "code",
   "execution_count": null,
   "id": "188d234a",
   "metadata": {},
   "outputs": [],
   "source": [
    "#4. What is an expression made up of? What do all expressions do?\n",
    "         Expressions in python programming is mathematical or logical operators.An expression is a construct made up \n",
    "    of operands and operators.Each expression do a specific operation.\n",
    "    \n",
    "    Arithematic operators are below\n",
    "    \n",
    "        +  addition operator\n",
    "        -  subtraction\n",
    "        *  multiplication\n",
    "        / division\n",
    "        = is assignment operator\n",
    "    \n",
    "    Relational operators are <,<=,>,>=,==,!+\n",
    "    \n",
    "    Logical operators are and, or,not\n",
    "     \n",
    "     "
   ]
  },
  {
   "cell_type": "code",
   "execution_count": null,
   "id": "f7c750e7",
   "metadata": {},
   "outputs": [],
   "source": [
    "#5. This assignment statements, like spam = 10. What is the difference between an\n",
    " expression and a statement?\n",
    "    \n",
    "        Expression is operator , it is used to do a particular operation.A statement is combination of operatiors ,\n",
    "        variables/operands. Here spam,10 are operans.= is an assignment operator.This statement can produce a \n",
    "        complete  meaning of assignment operation\n",
    "                      spam=10 means the value 10 is assigned or store in variable named as spam.\n",
    "        "
   ]
  },
  {
   "cell_type": "code",
   "execution_count": null,
   "id": "b92a834d",
   "metadata": {},
   "outputs": [],
   "source": [
    "#6. After running the following code, what does the variable bacon contain?\n",
    "bacon = 22\n",
    "bacon + 1\n",
    "  \n",
    "Answer\n",
    "     After running this code bacon=22 . Because bacon+1 does not assign result to bacon."
   ]
  },
  {
   "cell_type": "code",
   "execution_count": null,
   "id": "30a3103a",
   "metadata": {},
   "outputs": [],
   "source": [
    "#7. What should the values of the following two terms be?\n",
    "'spam'+'spamspam'\n",
    "'spam'*3\n",
    "\n",
    "Answer\n",
    "    The out put of following two codes is same , that is 'spamspamspam'"
   ]
  },
  {
   "cell_type": "code",
   "execution_count": null,
   "id": "042bf30c",
   "metadata": {},
   "outputs": [],
   "source": [
    "#8.Why is eggs a valid variable name while 100 is invalid?\n",
    "        There are certain rules we must follow while creating a variable name.So  the rule specifies that a variable \n",
    "    name must start with a charactor and not by integer,special charactors or symbols.Thats why eggs is  valid \n",
    "    variable name. In 100, it start with an integer hence it is invalid."
   ]
  },
  {
   "cell_type": "code",
   "execution_count": null,
   "id": "fae34941",
   "metadata": {},
   "outputs": [],
   "source": [
    "#9. What three functions can be used to get the integer, floating-point number, or string\n",
    "version of a value?\n",
    "Answer\n",
    "The int(),float(),str( ) functions can be ued to get the integer,floating-point number, or string\n",
    "version of a value."
   ]
  },
  {
   "cell_type": "code",
   "execution_count": null,
   "id": "05eda06f",
   "metadata": {},
   "outputs": [],
   "source": [
    "#10. Why does this expression cause an error? How can you fix it?\n",
    "'I have eaten'+99+'burritos'\n",
    "\n",
    "Answer\n",
    "The concatenation operation is used to concatenate two or more strings togeter.Here we try concatenate  an integer(99)\n",
    "with string.That is the error here.we can fix it by following way.\n",
    "\n",
    "'I have eaten'+'99'+'burritos'\n",
    "\n",
    "Here 99 we converted as string.\n"
   ]
  }
 ],
 "metadata": {
  "kernelspec": {
   "display_name": "Python 3 (ipykernel)",
   "language": "python",
   "name": "python3"
  },
  "language_info": {
   "codemirror_mode": {
    "name": "ipython",
    "version": 3
   },
   "file_extension": ".py",
   "mimetype": "text/x-python",
   "name": "python",
   "nbconvert_exporter": "python",
   "pygments_lexer": "ipython3",
   "version": "3.9.7"
  }
 },
 "nbformat": 4,
 "nbformat_minor": 5
}
